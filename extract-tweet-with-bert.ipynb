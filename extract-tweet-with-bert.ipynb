{
 "cells": [
  {
   "cell_type": "code",
   "execution_count": 1,
   "metadata": {
    "_cell_guid": "79c7e3d0-c299-4dcb-8224-4455121ee9b0",
    "_uuid": "d629ff2d2480ee46fbb7e2d37f6b5fab8052498a",
    "execution": {
     "iopub.execute_input": "2021-01-21T02:56:02.331537Z",
     "iopub.status.busy": "2021-01-21T02:56:02.330892Z",
     "iopub.status.idle": "2021-01-21T02:56:07.815086Z",
     "shell.execute_reply": "2021-01-21T02:56:07.814089Z"
    },
    "papermill": {
     "duration": 5.515232,
     "end_time": "2021-01-21T02:56:07.815206",
     "exception": false,
     "start_time": "2021-01-21T02:56:02.299974",
     "status": "completed"
    },
    "tags": []
   },
   "outputs": [],
   "source": [
    "import numpy as np\n",
    "import pandas as pd\n",
    "import matplotlib.pyplot as plt\n",
    "import seaborn as sns\n",
    "import tensorflow as tf\n",
    "from tensorflow.keras.layers import Dense, Input, Conv1D, Flatten, Dropout, Activation, LeakyReLU\n",
    "from tensorflow.keras.optimizers import Adam\n",
    "from tensorflow.keras.models import Model,load_model\n",
    "from tensorflow.keras.callbacks import ModelCheckpoint\n",
    "import tensorflow_hub as hub\n",
    "from tensorflow.keras.utils import to_categorical\n",
    "from sklearn.model_selection import StratifiedKFold\n",
    "\n",
    "from shutil import copyfile\n",
    "#copy our file into the working directory (make sure it has .py suffix)\n",
    "copyfile(src = \"../input/bert-tokenization/bert_tokenization.py\", dst = \"../working/bert_tokenization.py\")\n",
    "\n",
    "import bert_tokenization\n",
    "#from transformers import BertTokenizer"
   ]
  },
  {
   "cell_type": "markdown",
   "metadata": {
    "papermill": {
     "duration": 0.021913,
     "end_time": "2021-01-21T02:56:07.860035",
     "exception": false,
     "start_time": "2021-01-21T02:56:07.838122",
     "status": "completed"
    },
    "tags": []
   },
   "source": [
    "Import libraries that we need"
   ]
  },
  {
   "cell_type": "markdown",
   "metadata": {
    "papermill": {
     "duration": 0.028912,
     "end_time": "2021-01-21T02:56:07.913382",
     "exception": false,
     "start_time": "2021-01-21T02:56:07.884470",
     "status": "completed"
    },
    "tags": []
   },
   "source": [
    "# Data Overview"
   ]
  },
  {
   "cell_type": "code",
   "execution_count": 2,
   "metadata": {
    "execution": {
     "iopub.execute_input": "2021-01-21T02:56:07.999645Z",
     "iopub.status.busy": "2021-01-21T02:56:07.997893Z",
     "iopub.status.idle": "2021-01-21T02:56:08.205259Z",
     "shell.execute_reply": "2021-01-21T02:56:08.206317Z"
    },
    "papermill": {
     "duration": 0.255515,
     "end_time": "2021-01-21T02:56:08.206488",
     "exception": false,
     "start_time": "2021-01-21T02:56:07.950973",
     "status": "completed"
    },
    "tags": []
   },
   "outputs": [
    {
     "data": {
      "text/plain": [
       "textID           0\n",
       "text             1\n",
       "selected_text    1\n",
       "sentiment        0\n",
       "dtype: int64"
      ]
     },
     "execution_count": 2,
     "metadata": {},
     "output_type": "execute_result"
    }
   ],
   "source": [
    "df_train = pd.read_csv('/kaggle/input/tweet-sentiment-extraction/train.csv')\n",
    "df_test = pd.read_csv('/kaggle/input/tweet-sentiment-extraction/test.csv')\n",
    "df_train.isnull().sum()"
   ]
  },
  {
   "cell_type": "code",
   "execution_count": 3,
   "metadata": {
    "execution": {
     "iopub.execute_input": "2021-01-21T02:56:08.298831Z",
     "iopub.status.busy": "2021-01-21T02:56:08.297995Z",
     "iopub.status.idle": "2021-01-21T02:56:08.327800Z",
     "shell.execute_reply": "2021-01-21T02:56:08.328215Z"
    },
    "papermill": {
     "duration": 0.08449,
     "end_time": "2021-01-21T02:56:08.328340",
     "exception": false,
     "start_time": "2021-01-21T02:56:08.243850",
     "status": "completed"
    },
    "tags": []
   },
   "outputs": [
    {
     "data": {
      "text/html": [
       "<div>\n",
       "<style scoped>\n",
       "    .dataframe tbody tr th:only-of-type {\n",
       "        vertical-align: middle;\n",
       "    }\n",
       "\n",
       "    .dataframe tbody tr th {\n",
       "        vertical-align: top;\n",
       "    }\n",
       "\n",
       "    .dataframe thead th {\n",
       "        text-align: right;\n",
       "    }\n",
       "</style>\n",
       "<table border=\"1\" class=\"dataframe\">\n",
       "  <thead>\n",
       "    <tr style=\"text-align: right;\">\n",
       "      <th></th>\n",
       "      <th>textID</th>\n",
       "      <th>text</th>\n",
       "      <th>selected_text</th>\n",
       "      <th>sentiment</th>\n",
       "    </tr>\n",
       "  </thead>\n",
       "  <tbody>\n",
       "    <tr>\n",
       "      <th>0</th>\n",
       "      <td>cb774db0d1</td>\n",
       "      <td>I`d have responded, if I were going</td>\n",
       "      <td>I`d have responded, if I were going</td>\n",
       "      <td>neutral</td>\n",
       "    </tr>\n",
       "    <tr>\n",
       "      <th>1</th>\n",
       "      <td>549e992a42</td>\n",
       "      <td>Sooo SAD I will miss you here in San Diego!!!</td>\n",
       "      <td>Sooo SAD</td>\n",
       "      <td>negative</td>\n",
       "    </tr>\n",
       "    <tr>\n",
       "      <th>2</th>\n",
       "      <td>088c60f138</td>\n",
       "      <td>my boss is bullying me...</td>\n",
       "      <td>bullying me</td>\n",
       "      <td>negative</td>\n",
       "    </tr>\n",
       "    <tr>\n",
       "      <th>3</th>\n",
       "      <td>9642c003ef</td>\n",
       "      <td>what interview! leave me alone</td>\n",
       "      <td>leave me alone</td>\n",
       "      <td>negative</td>\n",
       "    </tr>\n",
       "    <tr>\n",
       "      <th>4</th>\n",
       "      <td>358bd9e861</td>\n",
       "      <td>Sons of ****, why couldn`t they put them on t...</td>\n",
       "      <td>Sons of ****,</td>\n",
       "      <td>negative</td>\n",
       "    </tr>\n",
       "  </tbody>\n",
       "</table>\n",
       "</div>"
      ],
      "text/plain": [
       "       textID                                               text  \\\n",
       "0  cb774db0d1                I`d have responded, if I were going   \n",
       "1  549e992a42      Sooo SAD I will miss you here in San Diego!!!   \n",
       "2  088c60f138                          my boss is bullying me...   \n",
       "3  9642c003ef                     what interview! leave me alone   \n",
       "4  358bd9e861   Sons of ****, why couldn`t they put them on t...   \n",
       "\n",
       "                         selected_text sentiment  \n",
       "0  I`d have responded, if I were going   neutral  \n",
       "1                             Sooo SAD  negative  \n",
       "2                          bullying me  negative  \n",
       "3                       leave me alone  negative  \n",
       "4                        Sons of ****,  negative  "
      ]
     },
     "execution_count": 3,
     "metadata": {},
     "output_type": "execute_result"
    }
   ],
   "source": [
    "df_train.dropna(how='any',axis=0,inplace=True)\n",
    "df_train.head()"
   ]
  },
  {
   "cell_type": "code",
   "execution_count": 4,
   "metadata": {
    "execution": {
     "iopub.execute_input": "2021-01-21T02:56:08.416267Z",
     "iopub.status.busy": "2021-01-21T02:56:08.415486Z",
     "iopub.status.idle": "2021-01-21T02:56:08.421563Z",
     "shell.execute_reply": "2021-01-21T02:56:08.422172Z"
    },
    "papermill": {
     "duration": 0.0535,
     "end_time": "2021-01-21T02:56:08.422325",
     "exception": false,
     "start_time": "2021-01-21T02:56:08.368825",
     "status": "completed"
    },
    "tags": []
   },
   "outputs": [
    {
     "data": {
      "text/plain": [
       "textID       0\n",
       "text         0\n",
       "sentiment    0\n",
       "dtype: int64"
      ]
     },
     "execution_count": 4,
     "metadata": {},
     "output_type": "execute_result"
    }
   ],
   "source": [
    "df_test.isnull().sum()"
   ]
  },
  {
   "cell_type": "code",
   "execution_count": 5,
   "metadata": {
    "execution": {
     "iopub.execute_input": "2021-01-21T02:56:08.510660Z",
     "iopub.status.busy": "2021-01-21T02:56:08.509916Z",
     "iopub.status.idle": "2021-01-21T02:56:08.516472Z",
     "shell.execute_reply": "2021-01-21T02:56:08.517072Z"
    },
    "papermill": {
     "duration": 0.056379,
     "end_time": "2021-01-21T02:56:08.517224",
     "exception": false,
     "start_time": "2021-01-21T02:56:08.460845",
     "status": "completed"
    },
    "tags": []
   },
   "outputs": [
    {
     "data": {
      "text/html": [
       "<div>\n",
       "<style scoped>\n",
       "    .dataframe tbody tr th:only-of-type {\n",
       "        vertical-align: middle;\n",
       "    }\n",
       "\n",
       "    .dataframe tbody tr th {\n",
       "        vertical-align: top;\n",
       "    }\n",
       "\n",
       "    .dataframe thead th {\n",
       "        text-align: right;\n",
       "    }\n",
       "</style>\n",
       "<table border=\"1\" class=\"dataframe\">\n",
       "  <thead>\n",
       "    <tr style=\"text-align: right;\">\n",
       "      <th></th>\n",
       "      <th>textID</th>\n",
       "      <th>text</th>\n",
       "      <th>sentiment</th>\n",
       "    </tr>\n",
       "  </thead>\n",
       "  <tbody>\n",
       "    <tr>\n",
       "      <th>0</th>\n",
       "      <td>f87dea47db</td>\n",
       "      <td>Last session of the day  http://twitpic.com/67ezh</td>\n",
       "      <td>neutral</td>\n",
       "    </tr>\n",
       "    <tr>\n",
       "      <th>1</th>\n",
       "      <td>96d74cb729</td>\n",
       "      <td>Shanghai is also really exciting (precisely -...</td>\n",
       "      <td>positive</td>\n",
       "    </tr>\n",
       "    <tr>\n",
       "      <th>2</th>\n",
       "      <td>eee518ae67</td>\n",
       "      <td>Recession hit Veronique Branquinho, she has to...</td>\n",
       "      <td>negative</td>\n",
       "    </tr>\n",
       "    <tr>\n",
       "      <th>3</th>\n",
       "      <td>01082688c6</td>\n",
       "      <td>happy bday!</td>\n",
       "      <td>positive</td>\n",
       "    </tr>\n",
       "    <tr>\n",
       "      <th>4</th>\n",
       "      <td>33987a8ee5</td>\n",
       "      <td>http://twitpic.com/4w75p - I like it!!</td>\n",
       "      <td>positive</td>\n",
       "    </tr>\n",
       "  </tbody>\n",
       "</table>\n",
       "</div>"
      ],
      "text/plain": [
       "       textID                                               text sentiment\n",
       "0  f87dea47db  Last session of the day  http://twitpic.com/67ezh   neutral\n",
       "1  96d74cb729   Shanghai is also really exciting (precisely -...  positive\n",
       "2  eee518ae67  Recession hit Veronique Branquinho, she has to...  negative\n",
       "3  01082688c6                                        happy bday!  positive\n",
       "4  33987a8ee5             http://twitpic.com/4w75p - I like it!!  positive"
      ]
     },
     "execution_count": 5,
     "metadata": {},
     "output_type": "execute_result"
    }
   ],
   "source": [
    "df_test.head()"
   ]
  },
  {
   "cell_type": "code",
   "execution_count": 6,
   "metadata": {
    "execution": {
     "iopub.execute_input": "2021-01-21T02:56:08.606282Z",
     "iopub.status.busy": "2021-01-21T02:56:08.605474Z",
     "iopub.status.idle": "2021-01-21T02:56:09.024946Z",
     "shell.execute_reply": "2021-01-21T02:56:09.025347Z"
    },
    "papermill": {
     "duration": 0.468715,
     "end_time": "2021-01-21T02:56:09.025497",
     "exception": false,
     "start_time": "2021-01-21T02:56:08.556782",
     "status": "completed"
    },
    "tags": []
   },
   "outputs": [
    {
     "data": {
      "image/png": "[encoded data removed]",
      "text/plain": [
       "<Figure size 720x720 with 2 Axes>"
      ]
     },
     "metadata": {
      "needs_background": "light"
     },
     "output_type": "display_data"
    }
   ],
   "source": [
    "colors = sns.color_palette()\n",
    "plt.subplot(211)\n",
    "sentiment_num_1 = df_train['sentiment'].value_counts()\n",
    "sentiment_num_1.plot(kind='bar',figsize=(10,10),color=colors[0],rot=0)\n",
    "plt.title('Sentiment Distribution for Train Data')\n",
    "\n",
    "plt.subplot(212)\n",
    "sentiment_num_2 = df_test['sentiment'].value_counts()\n",
    "sentiment_num_2.plot(kind='bar',figsize=(10,10),color=colors[1],rot=0)\n",
    "plt.title('Sentiment Distribution for Test Data')\n",
    "\n",
    "plt.tight_layout(pad =3)\n",
    "plt.show()"
   ]
  },
  {
   "cell_type": "markdown",
   "metadata": {
    "papermill": {
     "duration": 0.025026,
     "end_time": "2021-01-21T02:56:09.076369",
     "exception": false,
     "start_time": "2021-01-21T02:56:09.051343",
     "status": "completed"
    },
    "tags": []
   },
   "source": [
    "Simple visualization for data distribution (The sentiment distributions for train and test data are almost same)"
   ]
  },
  {
   "cell_type": "code",
   "execution_count": 7,
   "metadata": {
    "execution": {
     "iopub.execute_input": "2021-01-21T02:56:09.156481Z",
     "iopub.status.busy": "2021-01-21T02:56:09.151326Z",
     "iopub.status.idle": "2021-01-21T02:56:10.106973Z",
     "shell.execute_reply": "2021-01-21T02:56:10.107434Z"
    },
    "papermill": {
     "duration": 1.006239,
     "end_time": "2021-01-21T02:56:10.107559",
     "exception": false,
     "start_time": "2021-01-21T02:56:09.101320",
     "status": "completed"
    },
    "tags": []
   },
   "outputs": [
    {
     "data": {
      "image/png": "[encoded data removed]",
      "text/plain": [
       "<Figure size 576x1440 with 3 Axes>"
      ]
     },
     "metadata": {
      "needs_background": "light"
     },
     "output_type": "display_data"
    }
   ],
   "source": [
    "df_train['word_cnt_full_texts'] = df_train['text'].apply(lambda x: len(x.split()))\n",
    "df_train['word_cnt_sel_texts'] = df_train['selected_text'].apply(lambda x: len(x.split()))\n",
    "fig,axes = plt.subplots(nrows=3,ncols=1,figsize=(8,20))\n",
    "for i,s in enumerate(['positive','negative','neutral']):\n",
    "    sns.distplot(df_train[df_train.sentiment==s]['word_cnt_full_texts'],\n",
    "                 bins=20, color='skyblue', label='full texts', ax=axes[i])\n",
    "    sns.distplot(df_train[df_train.sentiment==s]['word_cnt_sel_texts'],\n",
    "                 bins=20, color='red', label='sel texts', ax=axes[i])\n",
    "    axes[i].legend(fontsize=14)\n",
    "    axes[i].set_title('%s: full texts length vs selected texts length'%(s),fontsize=15,fontweight='bold')"
   ]
  },
  {
   "cell_type": "markdown",
   "metadata": {
    "papermill": {
     "duration": 0.049835,
     "end_time": "2021-01-21T02:56:10.205329",
     "exception": false,
     "start_time": "2021-01-21T02:56:10.155494",
     "status": "completed"
    },
    "tags": []
   },
   "source": [
    "It looks like for neutral tweets, slected texts and full texts are almost the same. While for positive and negative tweets, selected texts are only a small part of full texts."
   ]
  },
  {
   "cell_type": "markdown",
   "metadata": {
    "papermill": {
     "duration": 0.056446,
     "end_time": "2021-01-21T02:56:10.310276",
     "exception": false,
     "start_time": "2021-01-21T02:56:10.253830",
     "status": "completed"
    },
    "tags": []
   },
   "source": [
    "# Bert"
   ]
  },
  {
   "cell_type": "markdown",
   "metadata": {
    "papermill": {
     "duration": 0.040695,
     "end_time": "2021-01-21T02:56:10.403550",
     "exception": false,
     "start_time": "2021-01-21T02:56:10.362855",
     "status": "completed"
    },
    "tags": []
   },
   "source": [
    "First I take a look at how the tokenizer works"
   ]
  },
  {
   "cell_type": "code",
   "execution_count": 8,
   "metadata": {
    "execution": {
     "iopub.execute_input": "2021-01-21T02:56:10.502141Z",
     "iopub.status.busy": "2021-01-21T02:56:10.498647Z",
     "iopub.status.idle": "2021-01-21T02:56:25.348955Z",
     "shell.execute_reply": "2021-01-21T02:56:25.348009Z"
    },
    "papermill": {
     "duration": 14.905923,
     "end_time": "2021-01-21T02:56:25.349098",
     "exception": false,
     "start_time": "2021-01-21T02:56:10.443175",
     "status": "completed"
    },
    "tags": []
   },
   "outputs": [],
   "source": [
    "bert_layer = hub.KerasLayer('../input/berthub', trainable=True)\n",
    "vocab_file = bert_layer.resolved_object.vocab_file.asset_path.numpy()\n",
    "do_lower_case = bert_layer.resolved_object.do_lower_case.numpy()\n",
    "tokenizer = bert_tokenization.FullTokenizer(vocab_file, do_lower_case)"
   ]
  },
  {
   "cell_type": "code",
   "execution_count": 9,
   "metadata": {
    "execution": {
     "iopub.execute_input": "2021-01-21T02:56:25.412480Z",
     "iopub.status.busy": "2021-01-21T02:56:25.411931Z",
     "iopub.status.idle": "2021-01-21T02:56:25.420551Z",
     "shell.execute_reply": "2021-01-21T02:56:25.419361Z"
    },
    "papermill": {
     "duration": 0.042278,
     "end_time": "2021-01-21T02:56:25.420676",
     "exception": false,
     "start_time": "2021-01-21T02:56:25.378398",
     "status": "completed"
    },
    "tags": []
   },
   "outputs": [
    {
     "name": "stdout",
     "output_type": "stream",
     "text": [
      " Sooo SAD I will miss you here in San Diego!!!\n",
      "['soo', '##o', 'sad', 'i', 'will', 'miss', 'you', 'here', 'in', 'san', 'diego', '!', '!', '!']\n",
      "[17111, 2080, 6517, 1045, 2097, 3335, 2017, 2182, 1999, 2624, 5277, 999, 999, 999]\n"
     ]
    }
   ],
   "source": [
    "print(df_train['text'][1]) \n",
    "print(tokenizer.tokenize(df_train['text'][1]))\n",
    "print(tokenizer.convert_tokens_to_ids(tokenizer.tokenize(df_train['text'][1])))"
   ]
  },
  {
   "cell_type": "code",
   "execution_count": 10,
   "metadata": {
    "execution": {
     "iopub.execute_input": "2021-01-21T02:56:25.481600Z",
     "iopub.status.busy": "2021-01-21T02:56:25.480931Z",
     "iopub.status.idle": "2021-01-21T02:56:25.487435Z",
     "shell.execute_reply": "2021-01-21T02:56:25.487932Z"
    },
    "papermill": {
     "duration": 0.039576,
     "end_time": "2021-01-21T02:56:25.488051",
     "exception": false,
     "start_time": "2021-01-21T02:56:25.448475",
     "status": "completed"
    },
    "tags": []
   },
   "outputs": [
    {
     "name": "stdout",
     "output_type": "stream",
     "text": [
      "Sooo SAD\n",
      "['soo', '##o', 'sad']\n",
      "[17111, 2080, 6517]\n"
     ]
    }
   ],
   "source": [
    "print(df_train['selected_text'][1])\n",
    "print(tokenizer.tokenize(df_train['selected_text'][1]))\n",
    "print(tokenizer.convert_tokens_to_ids(tokenizer.tokenize(df_train['selected_text'][1])))"
   ]
  },
  {
   "cell_type": "code",
   "execution_count": 11,
   "metadata": {
    "execution": {
     "iopub.execute_input": "2021-01-21T02:56:25.550435Z",
     "iopub.status.busy": "2021-01-21T02:56:25.548745Z",
     "iopub.status.idle": "2021-01-21T02:56:25.553565Z",
     "shell.execute_reply": "2021-01-21T02:56:25.552936Z"
    },
    "papermill": {
     "duration": 0.03756,
     "end_time": "2021-01-21T02:56:25.553690",
     "exception": false,
     "start_time": "2021-01-21T02:56:25.516130",
     "status": "completed"
    },
    "tags": []
   },
   "outputs": [
    {
     "name": "stdout",
     "output_type": "stream",
     "text": [
      "[101]\n",
      "[102]\n"
     ]
    }
   ],
   "source": [
    "print(tokenizer.convert_tokens_to_ids(['[CLS]']))\n",
    "print(tokenizer.convert_tokens_to_ids(['[SEP]']))"
   ]
  },
  {
   "cell_type": "markdown",
   "metadata": {
    "papermill": {
     "duration": 0.028066,
     "end_time": "2021-01-21T02:56:25.611467",
     "exception": false,
     "start_time": "2021-01-21T02:56:25.583401",
     "status": "completed"
    },
    "tags": []
   },
   "source": [
    "## Encode train and test data"
   ]
  },
  {
   "cell_type": "markdown",
   "metadata": {
    "papermill": {
     "duration": 0.028327,
     "end_time": "2021-01-21T02:56:25.668665",
     "exception": false,
     "start_time": "2021-01-21T02:56:25.640338",
     "status": "completed"
    },
    "tags": []
   },
   "source": [
    "Then I segment encoding part step by step"
   ]
  },
  {
   "cell_type": "markdown",
   "metadata": {
    "papermill": {
     "duration": 0.027803,
     "end_time": "2021-01-21T02:56:25.724807",
     "exception": false,
     "start_time": "2021-01-21T02:56:25.697004",
     "status": "completed"
    },
    "tags": []
   },
   "source": [
    "Step 1. Decompose full texts into three parts: texts before selected texts, selected texts and texts after selected texts"
   ]
  },
  {
   "cell_type": "markdown",
   "metadata": {
    "papermill": {
     "duration": 0.028595,
     "end_time": "2021-01-21T02:56:25.781994",
     "exception": false,
     "start_time": "2021-01-21T02:56:25.753399",
     "status": "completed"
    },
    "tags": []
   },
   "source": [
    "I use the second sentence as an example"
   ]
  },
  {
   "cell_type": "code",
   "execution_count": 12,
   "metadata": {
    "execution": {
     "iopub.execute_input": "2021-01-21T02:56:25.854208Z",
     "iopub.status.busy": "2021-01-21T02:56:25.847480Z",
     "iopub.status.idle": "2021-01-21T02:56:25.859119Z",
     "shell.execute_reply": "2021-01-21T02:56:25.859497Z"
    },
    "papermill": {
     "duration": 0.049101,
     "end_time": "2021-01-21T02:56:25.859608",
     "exception": false,
     "start_time": "2021-01-21T02:56:25.810507",
     "status": "completed"
    },
    "tags": []
   },
   "outputs": [
    {
     "data": {
      "text/plain": [
       "(27480, 27480, 27480)"
      ]
     },
     "execution_count": 12,
     "metadata": {},
     "output_type": "execute_result"
    }
   ],
   "source": [
    "train_texts = df_train['text']\n",
    "train_sel_texts = df_train['selected_text']\n",
    "train_sentiment = df_train['sentiment']\n",
    "texts = list(train_texts)\n",
    "sentiments = list(train_sentiment)\n",
    "sel_texts = list(train_sel_texts)\n",
    "len(sel_texts),len(texts),len(sentiments)"
   ]
  },
  {
   "cell_type": "code",
   "execution_count": 13,
   "metadata": {
    "execution": {
     "iopub.execute_input": "2021-01-21T02:56:25.920886Z",
     "iopub.status.busy": "2021-01-21T02:56:25.920324Z",
     "iopub.status.idle": "2021-01-21T02:56:25.925614Z",
     "shell.execute_reply": "2021-01-21T02:56:25.926030Z"
    },
    "papermill": {
     "duration": 0.037902,
     "end_time": "2021-01-21T02:56:25.926137",
     "exception": false,
     "start_time": "2021-01-21T02:56:25.888235",
     "status": "completed"
    },
    "tags": []
   },
   "outputs": [
    {
     "data": {
      "text/plain": [
       "('negative', ' Sooo SAD I will miss you here in San Diego!!!', 'Sooo SAD')"
      ]
     },
     "execution_count": 13,
     "metadata": {},
     "output_type": "execute_result"
    }
   ],
   "source": [
    "sentiments[1],texts[1],sel_texts[1]"
   ]
  },
  {
   "cell_type": "code",
   "execution_count": 14,
   "metadata": {
    "execution": {
     "iopub.execute_input": "2021-01-21T02:56:25.995052Z",
     "iopub.status.busy": "2021-01-21T02:56:25.994144Z",
     "iopub.status.idle": "2021-01-21T02:56:25.998294Z",
     "shell.execute_reply": "2021-01-21T02:56:25.997856Z"
    },
    "papermill": {
     "duration": 0.043437,
     "end_time": "2021-01-21T02:56:25.998376",
     "exception": false,
     "start_time": "2021-01-21T02:56:25.954939",
     "status": "completed"
    },
    "tags": []
   },
   "outputs": [
    {
     "data": {
      "text/plain": [
       "('negative',\n",
       " [],\n",
       " ['soo', '##o', 'sad'],\n",
       " ['i', 'will', 'miss', 'you', 'here', 'in', 'san', 'diego', '!', '!', '!'])"
      ]
     },
     "execution_count": 14,
     "metadata": {},
     "output_type": "execute_result"
    }
   ],
   "source": [
    "start_idx = texts[1].find(sel_texts[1])\n",
    "end_idx = start_idx + len(sel_texts[1])-1                \n",
    "sentiment = sentiments[1]\n",
    "full_text_1 = tokenizer.tokenize(texts[1][:start_idx])\n",
    "full_text_2 = tokenizer.tokenize(texts[1][start_idx:end_idx+1])\n",
    "full_text_3 = tokenizer.tokenize(texts[1][end_idx+1:])\n",
    "sentiment,full_text_1,full_text_2,full_text_3"
   ]
  },
  {
   "cell_type": "markdown",
   "metadata": {
    "papermill": {
     "duration": 0.029256,
     "end_time": "2021-01-21T02:56:26.056803",
     "exception": false,
     "start_time": "2021-01-21T02:56:26.027547",
     "status": "completed"
    },
    "tags": []
   },
   "source": [
    "Step 2. tokenize three input arrays: input_ids,attention_masks,type_ids"
   ]
  },
  {
   "cell_type": "code",
   "execution_count": 15,
   "metadata": {
    "execution": {
     "iopub.execute_input": "2021-01-21T02:56:26.148772Z",
     "iopub.status.busy": "2021-01-21T02:56:26.146993Z",
     "iopub.status.idle": "2021-01-21T02:56:26.149365Z",
     "shell.execute_reply": "2021-01-21T02:56:26.149800Z"
    },
    "papermill": {
     "duration": 0.057568,
     "end_time": "2021-01-21T02:56:26.149909",
     "exception": false,
     "start_time": "2021-01-21T02:56:26.092341",
     "status": "completed"
    },
    "tags": []
   },
   "outputs": [],
   "source": [
    "max_len=150"
   ]
  },
  {
   "cell_type": "code",
   "execution_count": 16,
   "metadata": {
    "execution": {
     "iopub.execute_input": "2021-01-21T02:56:26.216228Z",
     "iopub.status.busy": "2021-01-21T02:56:26.215500Z",
     "iopub.status.idle": "2021-01-21T02:56:26.220665Z",
     "shell.execute_reply": "2021-01-21T02:56:26.221310Z"
    },
    "papermill": {
     "duration": 0.042137,
     "end_time": "2021-01-21T02:56:26.221460",
     "exception": false,
     "start_time": "2021-01-21T02:56:26.179323",
     "status": "completed"
    },
    "tags": []
   },
   "outputs": [
    {
     "name": "stdout",
     "output_type": "stream",
     "text": [
      "['[CLS]', 'negative', '[SEP]', 'soo', '##o', 'sad', 'i', 'will', 'miss', 'you', 'here', 'in', 'san', 'diego', '!', '!', '!', '[SEP]']\n",
      "[101, 4997, 102, 17111, 2080, 6517, 1045, 2097, 3335, 2017, 2182, 1999, 2624, 5277, 999, 999, 999, 102, 0, 0, 0, 0, 0, 0, 0, 0, 0, 0, 0, 0, 0, 0, 0, 0, 0, 0, 0, 0, 0, 0, 0, 0, 0, 0, 0, 0, 0, 0, 0, 0, 0, 0, 0, 0, 0, 0, 0, 0, 0, 0, 0, 0, 0, 0, 0, 0, 0, 0, 0, 0, 0, 0, 0, 0, 0, 0, 0, 0, 0, 0, 0, 0, 0, 0, 0, 0, 0, 0, 0, 0, 0, 0, 0, 0, 0, 0, 0, 0, 0, 0, 0, 0, 0, 0, 0, 0, 0, 0, 0, 0, 0, 0, 0, 0, 0, 0, 0, 0, 0, 0, 0, 0, 0, 0, 0, 0, 0, 0, 0, 0, 0, 0, 0, 0, 0, 0, 0, 0, 0, 0, 0, 0, 0, 0, 0, 0, 0, 0, 0, 0]\n",
      "[1, 1, 1, 1, 1, 1, 1, 1, 1, 1, 1, 1, 1, 1, 1, 1, 1, 1, 0, 0, 0, 0, 0, 0, 0, 0, 0, 0, 0, 0, 0, 0, 0, 0, 0, 0, 0, 0, 0, 0, 0, 0, 0, 0, 0, 0, 0, 0, 0, 0, 0, 0, 0, 0, 0, 0, 0, 0, 0, 0, 0, 0, 0, 0, 0, 0, 0, 0, 0, 0, 0, 0, 0, 0, 0, 0, 0, 0, 0, 0, 0, 0, 0, 0, 0, 0, 0, 0, 0, 0, 0, 0, 0, 0, 0, 0, 0, 0, 0, 0, 0, 0, 0, 0, 0, 0, 0, 0, 0, 0, 0, 0, 0, 0, 0, 0, 0, 0, 0, 0, 0, 0, 0, 0, 0, 0, 0, 0, 0, 0, 0, 0, 0, 0, 0, 0, 0, 0, 0, 0, 0, 0, 0, 0, 0, 0, 0, 0, 0, 0]\n",
      "[0, 0, 0, 1, 1, 1, 1, 1, 1, 1, 1, 1, 1, 1, 1, 1, 1, 1, 0, 0, 0, 0, 0, 0, 0, 0, 0, 0, 0, 0, 0, 0, 0, 0, 0, 0, 0, 0, 0, 0, 0, 0, 0, 0, 0, 0, 0, 0, 0, 0, 0, 0, 0, 0, 0, 0, 0, 0, 0, 0, 0, 0, 0, 0, 0, 0, 0, 0, 0, 0, 0, 0, 0, 0, 0, 0, 0, 0, 0, 0, 0, 0, 0, 0, 0, 0, 0, 0, 0, 0, 0, 0, 0, 0, 0, 0, 0, 0, 0, 0, 0, 0, 0, 0, 0, 0, 0, 0, 0, 0, 0, 0, 0, 0, 0, 0, 0, 0, 0, 0, 0, 0, 0, 0, 0, 0, 0, 0, 0, 0, 0, 0, 0, 0, 0, 0, 0, 0, 0, 0, 0, 0, 0, 0, 0, 0, 0, 0, 0, 0]\n"
     ]
    }
   ],
   "source": [
    "input_tokens = ['[CLS]'] + [sentiment] + ['[SEP]'] + full_text_1+ full_text_2 + full_text_3 +['[SEP]']\n",
    "pad_len = max_len - len(input_tokens)\n",
    "valid_input_ids = tokenizer.convert_tokens_to_ids(input_tokens)\n",
    "input_ids = valid_input_ids + [0]*pad_len\n",
    "attention_masks = [1]*len(valid_input_ids) + [0]*pad_len\n",
    "type_ids = [0]*3 + [1]*(len(valid_input_ids)-3)+[0]*pad_len\n",
    "print(input_tokens)\n",
    "print(input_ids)\n",
    "print(attention_masks)\n",
    "print(type_ids)"
   ]
  },
  {
   "cell_type": "markdown",
   "metadata": {
    "papermill": {
     "duration": 0.030147,
     "end_time": "2021-01-21T02:56:26.281780",
     "exception": false,
     "start_time": "2021-01-21T02:56:26.251633",
     "status": "completed"
    },
    "tags": []
   },
   "source": [
    "Step 3. tokenize two output arrays: start and end"
   ]
  },
  {
   "cell_type": "code",
   "execution_count": 17,
   "metadata": {
    "execution": {
     "iopub.execute_input": "2021-01-21T02:56:26.348305Z",
     "iopub.status.busy": "2021-01-21T02:56:26.347604Z",
     "iopub.status.idle": "2021-01-21T02:56:26.352766Z",
     "shell.execute_reply": "2021-01-21T02:56:26.352048Z"
    },
    "papermill": {
     "duration": 0.04105,
     "end_time": "2021-01-21T02:56:26.352881",
     "exception": false,
     "start_time": "2021-01-21T02:56:26.311831",
     "status": "completed"
    },
    "tags": []
   },
   "outputs": [
    {
     "name": "stdout",
     "output_type": "stream",
     "text": [
      "[0, 0, 0, 1, 0, 0, 0, 0, 0, 0, 0, 0, 0, 0, 0, 0, 0, 0, 0, 0, 0, 0, 0, 0, 0, 0, 0, 0, 0, 0, 0, 0, 0, 0, 0, 0, 0, 0, 0, 0, 0, 0, 0, 0, 0, 0, 0, 0, 0, 0, 0, 0, 0, 0, 0, 0, 0, 0, 0, 0, 0, 0, 0, 0, 0, 0, 0, 0, 0, 0, 0, 0, 0, 0, 0, 0, 0, 0, 0, 0, 0, 0, 0, 0, 0, 0, 0, 0, 0, 0, 0, 0, 0, 0, 0, 0, 0, 0, 0, 0, 0, 0, 0, 0, 0, 0, 0, 0, 0, 0, 0, 0, 0, 0, 0, 0, 0, 0, 0, 0, 0, 0, 0, 0, 0, 0, 0, 0, 0, 0, 0, 0, 0, 0, 0, 0, 0, 0, 0, 0, 0, 0, 0, 0, 0, 0, 0, 0, 0, 0]\n",
      "[0, 0, 0, 0, 0, 1, 0, 0, 0, 0, 0, 0, 0, 0, 0, 0, 0, 0, 0, 0, 0, 0, 0, 0, 0, 0, 0, 0, 0, 0, 0, 0, 0, 0, 0, 0, 0, 0, 0, 0, 0, 0, 0, 0, 0, 0, 0, 0, 0, 0, 0, 0, 0, 0, 0, 0, 0, 0, 0, 0, 0, 0, 0, 0, 0, 0, 0, 0, 0, 0, 0, 0, 0, 0, 0, 0, 0, 0, 0, 0, 0, 0, 0, 0, 0, 0, 0, 0, 0, 0, 0, 0, 0, 0, 0, 0, 0, 0, 0, 0, 0, 0, 0, 0, 0, 0, 0, 0, 0, 0, 0, 0, 0, 0, 0, 0, 0, 0, 0, 0, 0, 0, 0, 0, 0, 0, 0, 0, 0, 0, 0, 0, 0, 0, 0, 0, 0, 0, 0, 0, 0, 0, 0, 0, 0, 0, 0, 0, 0, 0]\n"
     ]
    }
   ],
   "source": [
    "start_tokens = [0]*(len(full_text_1)+3)+[1]+[0]*(max_len-len(full_text_1)-4)\n",
    "end_tokens = [0]*(len(full_text_1)+len(full_text_2)+2)+[1]+[0]*(max_len-len(full_text_1)-len(full_text_2)-3)\n",
    "print(start_tokens)\n",
    "print(end_tokens)"
   ]
  },
  {
   "cell_type": "markdown",
   "metadata": {
    "papermill": {
     "duration": 0.030318,
     "end_time": "2021-01-21T02:56:26.415920",
     "exception": false,
     "start_time": "2021-01-21T02:56:26.385602",
     "status": "completed"
    },
    "tags": []
   },
   "source": [
    "Check if all the arrays have the same length"
   ]
  },
  {
   "cell_type": "code",
   "execution_count": 18,
   "metadata": {
    "execution": {
     "iopub.execute_input": "2021-01-21T02:56:26.482803Z",
     "iopub.status.busy": "2021-01-21T02:56:26.482170Z",
     "iopub.status.idle": "2021-01-21T02:56:26.485089Z",
     "shell.execute_reply": "2021-01-21T02:56:26.485507Z"
    },
    "papermill": {
     "duration": 0.039393,
     "end_time": "2021-01-21T02:56:26.485609",
     "exception": false,
     "start_time": "2021-01-21T02:56:26.446216",
     "status": "completed"
    },
    "tags": []
   },
   "outputs": [
    {
     "data": {
      "text/plain": [
       "(150, 150, 150, 150, 150)"
      ]
     },
     "execution_count": 18,
     "metadata": {},
     "output_type": "execute_result"
    }
   ],
   "source": [
    "len(input_ids),len(attention_masks),len(type_ids),len(start_tokens),len(end_tokens)"
   ]
  },
  {
   "cell_type": "markdown",
   "metadata": {
    "papermill": {
     "duration": 0.030567,
     "end_time": "2021-01-21T02:56:26.546803",
     "exception": false,
     "start_time": "2021-01-21T02:56:26.516236",
     "status": "completed"
    },
    "tags": []
   },
   "source": [
    "## Wrap the step-by-step encoding methods"
   ]
  },
  {
   "cell_type": "code",
   "execution_count": 19,
   "metadata": {
    "execution": {
     "iopub.execute_input": "2021-01-21T02:56:26.624268Z",
     "iopub.status.busy": "2021-01-21T02:56:26.622471Z",
     "iopub.status.idle": "2021-01-21T02:56:26.625004Z",
     "shell.execute_reply": "2021-01-21T02:56:26.625446Z"
    },
    "papermill": {
     "duration": 0.04798,
     "end_time": "2021-01-21T02:56:26.625548",
     "exception": false,
     "start_time": "2021-01-21T02:56:26.577568",
     "status": "completed"
    },
    "tags": []
   },
   "outputs": [],
   "source": [
    "def bert_encode_train(sentiments, texts, sel_texts, tokenizer, max_len =512):\n",
    "    all_input_ids = []\n",
    "    all_masks = []\n",
    "    all_type_ids = []\n",
    "    all_start_tokens = []\n",
    "    all_end_tokens = []\n",
    "    \n",
    "    \n",
    "    for i in range(len(texts)):\n",
    "        \n",
    "        start_idx = texts[i].find(sel_texts[i])\n",
    "        end_idx = start_idx + len(sel_texts[i])-1                \n",
    "        sentiment = sentiments[i]\n",
    "        full_text_1 = tokenizer.tokenize(texts[i][:start_idx])\n",
    "        full_text_2 = tokenizer.tokenize(texts[i][start_idx:end_idx+1])\n",
    "        full_text_3 = tokenizer.tokenize(texts[i][end_idx+1:])\n",
    "        \n",
    "        input_tokens = ['[CLS]'] + [sentiment] + ['[SEP]'] + full_text_1+ full_text_2 + full_text_3 +['[SEP]']\n",
    "        pad_len = max_len - len(input_tokens)\n",
    "        valid_input_ids = tokenizer.convert_tokens_to_ids(input_tokens)\n",
    "        input_ids = valid_input_ids + [0]*pad_len\n",
    "        attention_masks = [1]*len(valid_input_ids) + [0]*pad_len\n",
    "        #type_ids = [0]*3 + [1]*(len(valid_input_ids)-3) + [0]*pad_len\n",
    "        type_ids = [0]*len(input_ids)\n",
    "        \n",
    "        start_tokens = [0]*(len(full_text_1)+3)+[1]+[0]*(max_len-len(full_text_1)-4)\n",
    "        end_tokens = [0]*(len(full_text_1)+len(full_text_2)+2)+[1]+[0]*(max_len-len(full_text_1)-len(full_text_2)-3)\n",
    "        \n",
    "        all_input_ids.append(input_ids)\n",
    "        all_masks.append(attention_masks)\n",
    "        all_type_ids.append(type_ids)\n",
    "        all_start_tokens.append(start_tokens) \n",
    "        all_end_tokens.append(end_tokens)\n",
    "        \n",
    "    return np.array(all_input_ids), np.array(all_masks), np.array(all_type_ids),np.array(all_start_tokens),np.array(all_end_tokens)"
   ]
  },
  {
   "cell_type": "markdown",
   "metadata": {
    "papermill": {
     "duration": 0.030769,
     "end_time": "2021-01-21T02:56:26.687432",
     "exception": false,
     "start_time": "2021-01-21T02:56:26.656663",
     "status": "completed"
    },
    "tags": []
   },
   "source": [
    "Check max length after bert encoding"
   ]
  },
  {
   "cell_type": "code",
   "execution_count": 20,
   "metadata": {
    "execution": {
     "iopub.execute_input": "2021-01-21T02:56:26.792665Z",
     "iopub.status.busy": "2021-01-21T02:56:26.777338Z",
     "iopub.status.idle": "2021-01-21T02:56:36.527856Z",
     "shell.execute_reply": "2021-01-21T02:56:36.528481Z"
    },
    "papermill": {
     "duration": 9.810472,
     "end_time": "2021-01-21T02:56:36.528648",
     "exception": false,
     "start_time": "2021-01-21T02:56:26.718176",
     "status": "completed"
    },
    "tags": []
   },
   "outputs": [
    {
     "name": "stdout",
     "output_type": "stream",
     "text": [
      "Max length for training data:  118\n"
     ]
    }
   ],
   "source": [
    "max_len = 0\n",
    "for i in range(df_train.shape[0]+1):\n",
    "    try:\n",
    "        tokens = tokenizer.tokenize(df_train['text'][i])\n",
    "        input_ids = tokenizer.convert_tokens_to_ids(['[CLS]']+list(df_train.loc[i,'sentiment'])+\n",
    "                                       ['[SEP]']+tokens+['[SEP]'])\n",
    "        max_len = max(max_len, len(input_ids))\n",
    "    except:\n",
    "        pass\n",
    "\n",
    "print('Max length for training data: ', max_len)"
   ]
  },
  {
   "cell_type": "code",
   "execution_count": 21,
   "metadata": {
    "execution": {
     "iopub.execute_input": "2021-01-21T02:56:36.613778Z",
     "iopub.status.busy": "2021-01-21T02:56:36.603476Z",
     "iopub.status.idle": "2021-01-21T02:56:38.449838Z",
     "shell.execute_reply": "2021-01-21T02:56:38.449212Z"
    },
    "papermill": {
     "duration": 1.889036,
     "end_time": "2021-01-21T02:56:38.449943",
     "exception": false,
     "start_time": "2021-01-21T02:56:36.560907",
     "status": "completed"
    },
    "tags": []
   },
   "outputs": [
    {
     "name": "stdout",
     "output_type": "stream",
     "text": [
      "Max length for test data:  79\n"
     ]
    }
   ],
   "source": [
    "max_len = 0\n",
    "for i in range(df_train.shape[0]+1):\n",
    "    try:\n",
    "        tokens = tokenizer.tokenize(df_test['text'][i])\n",
    "        input_ids = tokenizer.convert_tokens_to_ids(['[CLS]']+list(df_test.loc[i,'sentiment'])+\n",
    "                                       ['[SEP]']+tokens+['[SEP]'])\n",
    "        max_len = max(max_len, len(input_ids))\n",
    "    except:\n",
    "        pass\n",
    "\n",
    "print('Max length for test data: ', max_len)"
   ]
  },
  {
   "cell_type": "markdown",
   "metadata": {
    "papermill": {
     "duration": 0.031898,
     "end_time": "2021-01-21T02:56:38.517494",
     "exception": false,
     "start_time": "2021-01-21T02:56:38.485596",
     "status": "completed"
    },
    "tags": []
   },
   "source": [
    "Since the word count of full texts and selected texts for neutral text is almost the same, I only use positive and negative texts as training and test data. "
   ]
  },
  {
   "cell_type": "code",
   "execution_count": 22,
   "metadata": {
    "execution": {
     "iopub.execute_input": "2021-01-21T02:56:38.593565Z",
     "iopub.status.busy": "2021-01-21T02:56:38.592794Z",
     "iopub.status.idle": "2021-01-21T02:56:55.755247Z",
     "shell.execute_reply": "2021-01-21T02:56:55.755772Z"
    },
    "papermill": {
     "duration": 17.205956,
     "end_time": "2021-01-21T02:56:55.755920",
     "exception": false,
     "start_time": "2021-01-21T02:56:38.549964",
     "status": "completed"
    },
    "tags": []
   },
   "outputs": [],
   "source": [
    "train_texts = df_train[df_train['sentiment']!='neutral']['text']\n",
    "train_sel_texts = df_train[df_train['sentiment']!='neutral']['selected_text']\n",
    "train_sentiment = df_train[df_train['sentiment']!='neutral']['sentiment']\n",
    "#train_texts = df_train['text']\n",
    "#train_sel_texts = df_train['selected_text']\n",
    "#train_sentiment = df_train['sentiment']\n",
    "full_texts = list(train_texts)\n",
    "sentiments = list(train_sentiment)\n",
    "sel_texts = list(train_sel_texts)\n",
    "\n",
    "train_input = bert_encode_train(sentiments,full_texts,sel_texts,tokenizer, max_len =150)[:3]\n",
    "train_labels = bert_encode_train(sentiments,full_texts,sel_texts,tokenizer, max_len =150)[3:]"
   ]
  },
  {
   "cell_type": "code",
   "execution_count": 23,
   "metadata": {
    "execution": {
     "iopub.execute_input": "2021-01-21T02:56:55.830841Z",
     "iopub.status.busy": "2021-01-21T02:56:55.830150Z",
     "iopub.status.idle": "2021-01-21T02:56:55.833245Z",
     "shell.execute_reply": "2021-01-21T02:56:55.832835Z"
    },
    "papermill": {
     "duration": 0.044225,
     "end_time": "2021-01-21T02:56:55.833335",
     "exception": false,
     "start_time": "2021-01-21T02:56:55.789110",
     "status": "completed"
    },
    "tags": []
   },
   "outputs": [],
   "source": [
    "def bert_encode_test(sentiments, texts, tokenizer, max_len =512):\n",
    "    all_input_ids = []\n",
    "    all_masks = []\n",
    "    all_type_ids = []\n",
    "\n",
    "    for i in range(len(texts)):\n",
    "        text = tokenizer.tokenize(texts[i])               \n",
    "        sentiment = sentiments[i]\n",
    "        input_tokens = ['[CLS]'] + [sentiment] + ['[SEP]'] + text +['[SEP]']\n",
    "        pad_len = max_len - len(input_tokens)\n",
    "        valid_input_ids = tokenizer.convert_tokens_to_ids(input_tokens)\n",
    "        input_ids = valid_input_ids + [0]*pad_len\n",
    "        attention_masks = [1]*len(valid_input_ids) + [0]*pad_len\n",
    "        #type_ids = [0]*3 + [1]*(len(valid_input_ids)-3) + [0]*pad_len\n",
    "        type_ids = [0]*len(input_ids)\n",
    "        \n",
    "        all_input_ids.append(input_ids)\n",
    "        all_masks.append(attention_masks)\n",
    "        all_type_ids.append(type_ids)\n",
    "      \n",
    "    return np.array(all_input_ids), np.array(all_masks), np.array(all_type_ids)"
   ]
  },
  {
   "cell_type": "code",
   "execution_count": 24,
   "metadata": {
    "execution": {
     "iopub.execute_input": "2021-01-21T02:56:55.904725Z",
     "iopub.status.busy": "2021-01-21T02:56:55.903943Z",
     "iopub.status.idle": "2021-01-21T02:56:56.754169Z",
     "shell.execute_reply": "2021-01-21T02:56:56.753683Z"
    },
    "papermill": {
     "duration": 0.888526,
     "end_time": "2021-01-21T02:56:56.754273",
     "exception": false,
     "start_time": "2021-01-21T02:56:55.865747",
     "status": "completed"
    },
    "tags": []
   },
   "outputs": [],
   "source": [
    "test_texts = df_test[df_test['sentiment']!='neutral']['text']\n",
    "test_sentiment = df_test[df_test['sentiment']!='neutral']['sentiment']\n",
    "#test_texts = df_test['text']\n",
    "#test_sentiment = df_test['sentiment']\n",
    "full_texts_test = list(test_texts)\n",
    "sentiments_test = list(test_sentiment)\n",
    "\n",
    "test_input = bert_encode_test(sentiments_test, full_texts_test, tokenizer, max_len =150)"
   ]
  },
  {
   "cell_type": "markdown",
   "metadata": {
    "papermill": {
     "duration": 0.032077,
     "end_time": "2021-01-21T02:56:56.820344",
     "exception": false,
     "start_time": "2021-01-21T02:56:56.788267",
     "status": "completed"
    },
    "tags": []
   },
   "source": [
    "## Build Bert Model with CNN head"
   ]
  },
  {
   "cell_type": "code",
   "execution_count": 25,
   "metadata": {
    "execution": {
     "iopub.execute_input": "2021-01-21T02:56:56.898342Z",
     "iopub.status.busy": "2021-01-21T02:56:56.897558Z",
     "iopub.status.idle": "2021-01-21T03:11:21.587688Z",
     "shell.execute_reply": "2021-01-21T03:11:21.588176Z"
    },
    "papermill": {
     "duration": 864.735547,
     "end_time": "2021-01-21T03:11:21.588353",
     "exception": false,
     "start_time": "2021-01-21T02:56:56.852806",
     "status": "completed"
    },
    "tags": []
   },
   "outputs": [
    {
     "name": "stdout",
     "output_type": "stream",
     "text": [
      "Epoch 1/3\n",
      "819/819 [==============================] - ETA: 0s - loss: 2.8048 - activation_loss: 1.4018 - activation_1_loss: 1.4030\n",
      "Epoch 00001: val_loss improved from inf to 2.44348, saving model to best_weight.hdf5\n",
      "819/819 [==============================] - 284s 347ms/step - loss: 2.8048 - activation_loss: 1.4018 - activation_1_loss: 1.4030 - val_loss: 2.4435 - val_activation_loss: 1.2122 - val_activation_1_loss: 1.2313\n",
      "Epoch 2/3\n",
      "819/819 [==============================] - ETA: 0s - loss: 1.8647 - activation_loss: 0.9506 - activation_1_loss: 0.9141\n",
      "Epoch 00002: val_loss did not improve from 2.44348\n",
      "819/819 [==============================] - 279s 341ms/step - loss: 1.8647 - activation_loss: 0.9506 - activation_1_loss: 0.9141 - val_loss: 2.5862 - val_activation_loss: 1.2978 - val_activation_1_loss: 1.2885\n",
      "Epoch 3/3\n",
      "819/819 [==============================] - ETA: 0s - loss: 0.9427 - activation_loss: 0.5042 - activation_1_loss: 0.4385\n",
      "Epoch 00003: val_loss did not improve from 2.44348\n",
      "819/819 [==============================] - 279s 341ms/step - loss: 0.9427 - activation_loss: 0.5042 - activation_1_loss: 0.4385 - val_loss: 3.6513 - val_activation_loss: 1.7495 - val_activation_1_loss: 1.9018\n"
     ]
    },
    {
     "data": {
      "text/plain": [
       "<tensorflow.python.keras.callbacks.History at 0x7fb16f50d190>"
      ]
     },
     "execution_count": 25,
     "metadata": {},
     "output_type": "execute_result"
    }
   ],
   "source": [
    "def build_bert(bert_layer, max_len =512):\n",
    "    adam = Adam(lr=1e-3)\n",
    "    main_input = Input(shape =(max_len,), dtype =tf.int32)\n",
    "    input_word_ids = Input(shape = (max_len,),dtype =tf.int32)\n",
    "    input_mask = Input(shape = (max_len,),dtype =tf.int32)\n",
    "    input_type_ids = Input(shape = (max_len,),dtype =tf.int32)\n",
    "    \n",
    "    clf_output = bert_layer([input_word_ids, input_mask, input_type_ids])\n",
    "    #pooled_output, sequence_output = bert_layer([input_word_ids, input_mask, input_type_ids])\n",
    "    #clf_output = sequence_output[1]\n",
    "    \n",
    "    out1 = Dropout(0.1)(clf_output[1])\n",
    "    out1 = Conv1D(filters=1, kernel_size=1) (out1)\n",
    "    out1 = Flatten()(out1)\n",
    "    out1 = Activation('softmax')(out1)\n",
    "    \n",
    "    out2 = Dropout(0.1)(clf_output[1])\n",
    "    out2 = Conv1D(filters=1, kernel_size=1) (out2)\n",
    "    out2 = Flatten()(out2)\n",
    "    out2 = Activation('softmax')(out2)\n",
    "    \n",
    "    model = Model(inputs = [input_word_ids, input_mask, input_type_ids], outputs =[out1,out2])\n",
    "    model.compile(optimizer=Adam(lr=3e-5) ,loss = 'categorical_crossentropy')\n",
    "    #print(model.summary())\n",
    "    return model\n",
    "\n",
    "\n",
    "model = build_bert(bert_layer,max_len=150)\n",
    "filepath='best_weight.hdf5'\n",
    "checkpoint = ModelCheckpoint(filepath, monitor='val_loss', verbose=1, save_best_only=True, mode='min')\n",
    "model.fit(train_input, train_labels, epochs =3, batch_size = 16, callbacks=[checkpoint], validation_split=0.2)\n",
    "#for layer in model.layers:\n",
    "    #print(layer.output_shape)"
   ]
  },
  {
   "cell_type": "code",
   "execution_count": 26,
   "metadata": {
    "execution": {
     "iopub.execute_input": "2021-01-21T03:11:23.312911Z",
     "iopub.status.busy": "2021-01-21T03:11:23.312078Z",
     "iopub.status.idle": "2021-01-21T03:11:23.320447Z",
     "shell.execute_reply": "2021-01-21T03:11:23.320876Z"
    },
    "papermill": {
     "duration": 0.956902,
     "end_time": "2021-01-21T03:11:23.321018",
     "exception": false,
     "start_time": "2021-01-21T03:11:22.364116",
     "status": "completed"
    },
    "tags": []
   },
   "outputs": [],
   "source": [
    "def jaccard_similarity(str1,str2):\n",
    "    a = set(str1.lower().split())\n",
    "    b = set(str2.lower().split())\n",
    "    if not a and not b:\n",
    "        return 0.5 \n",
    "    c = a.intersection(b)\n",
    "    return float(len(c)/(len(a)+len(b)-len(c)))"
   ]
  },
  {
   "cell_type": "code",
   "execution_count": 27,
   "metadata": {
    "execution": {
     "iopub.execute_input": "2021-01-21T03:11:25.421334Z",
     "iopub.status.busy": "2021-01-21T03:11:25.420463Z",
     "iopub.status.idle": "2021-01-21T03:11:25.423243Z",
     "shell.execute_reply": "2021-01-21T03:11:25.423649Z"
    },
    "papermill": {
     "duration": 0.73302,
     "end_time": "2021-01-21T03:11:25.423773",
     "exception": false,
     "start_time": "2021-01-21T03:11:24.690753",
     "status": "completed"
    },
    "tags": []
   },
   "outputs": [
    {
     "data": {
      "text/plain": [
       "0.2"
      ]
     },
     "execution_count": 27,
     "metadata": {},
     "output_type": "execute_result"
    }
   ],
   "source": [
    "jaccard_similarity(' Sooo SAD I will miss you here in San Diego!!!','Sooo SAD')"
   ]
  },
  {
   "cell_type": "markdown",
   "metadata": {
    "papermill": {
     "duration": 0.739963,
     "end_time": "2021-01-21T03:11:26.970580",
     "exception": false,
     "start_time": "2021-01-21T03:11:26.230617",
     "status": "completed"
    },
    "tags": []
   },
   "source": [
    "# Predict and Submission"
   ]
  },
  {
   "cell_type": "markdown",
   "metadata": {
    "papermill": {
     "duration": 0.735012,
     "end_time": "2021-01-21T03:11:28.446875",
     "exception": false,
     "start_time": "2021-01-21T03:11:27.711863",
     "status": "completed"
    },
    "tags": []
   },
   "source": [
    "When it comes to the submission, selected texts of neutral texts are assigned with full texts."
   ]
  },
  {
   "cell_type": "code",
   "execution_count": 28,
   "metadata": {
    "execution": {
     "iopub.execute_input": "2021-01-21T03:11:29.925119Z",
     "iopub.status.busy": "2021-01-21T03:11:29.924244Z",
     "iopub.status.idle": "2021-01-21T03:11:54.044565Z",
     "shell.execute_reply": "2021-01-21T03:11:54.043634Z"
    },
    "papermill": {
     "duration": 24.839901,
     "end_time": "2021-01-21T03:11:54.044680",
     "exception": false,
     "start_time": "2021-01-21T03:11:29.204779",
     "status": "completed"
    },
    "tags": []
   },
   "outputs": [
    {
     "data": {
      "text/html": [
       "<div>\n",
       "<style scoped>\n",
       "    .dataframe tbody tr th:only-of-type {\n",
       "        vertical-align: middle;\n",
       "    }\n",
       "\n",
       "    .dataframe tbody tr th {\n",
       "        vertical-align: top;\n",
       "    }\n",
       "\n",
       "    .dataframe thead th {\n",
       "        text-align: right;\n",
       "    }\n",
       "</style>\n",
       "<table border=\"1\" class=\"dataframe\">\n",
       "  <thead>\n",
       "    <tr style=\"text-align: right;\">\n",
       "      <th></th>\n",
       "      <th>textID</th>\n",
       "      <th>selected_text</th>\n",
       "    </tr>\n",
       "  </thead>\n",
       "  <tbody>\n",
       "    <tr>\n",
       "      <th>0</th>\n",
       "      <td>f87dea47db</td>\n",
       "      <td>Last session of the day  http://twitpic.com/67ezh</td>\n",
       "    </tr>\n",
       "    <tr>\n",
       "      <th>1</th>\n",
       "      <td>96d74cb729</td>\n",
       "      <td>exciting ( precisely - - skyscrapers galore ) ...</td>\n",
       "    </tr>\n",
       "    <tr>\n",
       "      <th>2</th>\n",
       "      <td>eee518ae67</td>\n",
       "      <td>, such a shame</td>\n",
       "    </tr>\n",
       "    <tr>\n",
       "      <th>3</th>\n",
       "      <td>01082688c6</td>\n",
       "      <td>happy bday !</td>\n",
       "    </tr>\n",
       "    <tr>\n",
       "      <th>4</th>\n",
       "      <td>33987a8ee5</td>\n",
       "      <td>like</td>\n",
       "    </tr>\n",
       "    <tr>\n",
       "      <th>5</th>\n",
       "      <td>726e501993</td>\n",
       "      <td>that ` s great !</td>\n",
       "    </tr>\n",
       "    <tr>\n",
       "      <th>6</th>\n",
       "      <td>261932614e</td>\n",
       "      <td>hates</td>\n",
       "    </tr>\n",
       "    <tr>\n",
       "      <th>7</th>\n",
       "      <td>afa11da83f</td>\n",
       "      <td>completely blocked</td>\n",
       "    </tr>\n",
       "    <tr>\n",
       "      <th>8</th>\n",
       "      <td>e64208b4ef</td>\n",
       "      <td>and within a short time of the last clue all ...</td>\n",
       "    </tr>\n",
       "    <tr>\n",
       "      <th>9</th>\n",
       "      <td>37bcad24ca</td>\n",
       "      <td>What did you get?  My day is alright.. haven`...</td>\n",
       "    </tr>\n",
       "  </tbody>\n",
       "</table>\n",
       "</div>"
      ],
      "text/plain": [
       "       textID                                      selected_text\n",
       "0  f87dea47db  Last session of the day  http://twitpic.com/67ezh\n",
       "1  96d74cb729  exciting ( precisely - - skyscrapers galore ) ...\n",
       "2  eee518ae67                                     , such a shame\n",
       "3  01082688c6                                       happy bday !\n",
       "4  33987a8ee5                                               like\n",
       "5  726e501993                                   that ` s great !\n",
       "6  261932614e                                              hates\n",
       "7  afa11da83f                                 completely blocked\n",
       "8  e64208b4ef   and within a short time of the last clue all ...\n",
       "9  37bcad24ca   What did you get?  My day is alright.. haven`..."
      ]
     },
     "execution_count": 28,
     "metadata": {},
     "output_type": "execute_result"
    }
   ],
   "source": [
    "best_model = load_model('./best_weight.hdf5',custom_objects={'KerasLayer':bert_layer})\n",
    "pred_start,pred_end = model.predict(test_input)\n",
    "results = []\n",
    "for k in range(test_input[0].shape[0]):\n",
    "    a = np.argmax(pred_start[k])\n",
    "    b = np.argmax(pred_end[k])\n",
    "    \n",
    "    if a>b:\n",
    "        sel_text = full_texts_test[k]\n",
    "    else:\n",
    "        sel_text = ' '.join(tokenizer.convert_ids_to_tokens(test_input[0][k,a:b+1]))\n",
    "        \n",
    "    results.append(sel_text)\n",
    "\n",
    "#google fulltokenizer will generate meaingless punction ##   \n",
    "results = [x.replace(' ##','') for x in results]\n",
    "    \n",
    "for k in range(df_test.shape[0]):\n",
    "    if df_test.loc[k, 'sentiment'] == 'neutral':\n",
    "        df_test.loc[k, 'selected_text'] = df_test.loc[k, 'text']\n",
    "\n",
    "df_test.loc[df_test['sentiment']!='neutral','selected_text'] = results\n",
    "#df_test['selected_text'] = results\n",
    "output = pd.read_csv('/kaggle/input/tweet-sentiment-extraction/sample_submission.csv')\n",
    "output['selected_text'] = df_test['selected_text']\n",
    "output.head(10)"
   ]
  },
  {
   "cell_type": "code",
   "execution_count": 29,
   "metadata": {
    "execution": {
     "iopub.execute_input": "2021-01-21T03:11:55.501143Z",
     "iopub.status.busy": "2021-01-21T03:11:55.500539Z",
     "iopub.status.idle": "2021-01-21T03:11:55.559347Z",
     "shell.execute_reply": "2021-01-21T03:11:55.558319Z"
    },
    "papermill": {
     "duration": 0.771773,
     "end_time": "2021-01-21T03:11:55.559455",
     "exception": false,
     "start_time": "2021-01-21T03:11:54.787682",
     "status": "completed"
    },
    "tags": []
   },
   "outputs": [],
   "source": [
    "output.to_csv('submission.csv',index=False,header=True)"
   ]
  }
 ],
 "metadata": {
  "kernelspec": {
   "display_name": "Python 3",
   "language": "python",
   "name": "python3"
  },
  "language_info": {
   "codemirror_mode": {
    "name": "ipython",
    "version": 3
   },
   "file_extension": ".py",
   "mimetype": "text/x-python",
   "name": "python",
   "nbconvert_exporter": "python",
   "pygments_lexer": "ipython3",
   "version": "3.7.6"
  },
  "papermill": {
   "duration": 960.305853,
   "end_time": "2021-01-21T03:11:58.864405",
   "environment_variables": {},
   "exception": null,
   "input_path": "__notebook__.ipynb",
   "output_path": "__notebook__.ipynb",
   "parameters": {},
   "start_time": "2021-01-21T02:55:58.558552",
   "version": "2.1.0"
  }
 },
 "nbformat": 4,
 "nbformat_minor": 4
}
